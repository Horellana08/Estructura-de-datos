{
 "cells": [
  {
   "cell_type": "markdown",
   "id": "17877efd",
   "metadata": {},
   "source": [
    "listas = arreglo, indice, autoescalable, son mutables\n",
    "Tuplas = Inmutable\n",
    "Conjuntos = Ni iterables, no posee indice, no preocesa valores repeticos\n",
    "Diccionaros = clave : valor, \n",
    "String = cadena de caracteres o conjuntos de char"
   ]
  },
  {
   "cell_type": "code",
   "execution_count": 1,
   "id": "3bad11ee",
   "metadata": {},
   "outputs": [
    {
     "name": "stdout",
     "output_type": "stream",
     "text": [
      "Desea agregar un contacto: y/n \n",
      "y\n",
      "Ingrese el nombre del contacto: \n",
      "Kevin\n",
      "Ingrese el numero telefonico del contacto: \n",
      "79854546\n",
      "Desea agregar otro contacto: y/n \n",
      "y\n",
      "Ingrese el nombre del contacto: \n",
      "Zulma\n",
      "Ingrese el numero telefonico del contacto: \n",
      "785468\n",
      "Desea agregar otro contacto: y/n \n",
      "n\n"
     ]
    }
   ],
   "source": [
    "agenda = []\n",
    "\n",
    "ingreso = input(\"Desea agregar un contacto: y/n \\n\")\n",
    "\n",
    "while ingreso.lower() in \"y\":\n",
    "    nombre = input(\"Ingrese el nombre del contacto: \\n\")\n",
    "    numero = input(\"Ingrese el numero telefonico del contacto: \\n\")\n",
    "    \n",
    "    contacto = [nombre, numero]\n",
    "    \n",
    "    agenda.append(contacto)\n",
    "    \n",
    "    ingreso = input(\"Desea agregar otro contacto: y/n \\n\")\n"
   ]
  },
  {
   "cell_type": "code",
   "execution_count": 2,
   "id": "a1116372",
   "metadata": {},
   "outputs": [
    {
     "name": "stdout",
     "output_type": "stream",
     "text": [
      "[['Kevin', '79854546'], ['Zulma', '785468']]\n"
     ]
    }
   ],
   "source": [
    "print(agenda)"
   ]
  },
  {
   "cell_type": "code",
   "execution_count": 5,
   "id": "d6186b80",
   "metadata": {},
   "outputs": [
    {
     "name": "stdout",
     "output_type": "stream",
     "text": [
      "Contacto:  Kevin Número:  79854546\n",
      "____________________________________\n",
      "Contacto:  Zulma Número:  785468\n",
      "____________________________________\n"
     ]
    }
   ],
   "source": [
    "for i in agenda[:]:\n",
    "    print(\"Contacto: \", i[0], \"Número: \", i[1])\n",
    "    print(\"________________________________________\")"
   ]
  },
  {
   "cell_type": "code",
   "execution_count": 7,
   "id": "44aceac8",
   "metadata": {},
   "outputs": [
    {
     "name": "stdout",
     "output_type": "stream",
     "text": [
      "Desea agregar un contacto: y/n \n",
      "y\n",
      "Ingrese el nombre del contacto: \n",
      "Juanito\n",
      "Ingrese el numero telefonico del contacto: \n",
      "68454\n",
      "Desea agregar otro contacto: y/n \n",
      "Kevin\n"
     ]
    }
   ],
   "source": [
    "agenda = []\n",
    "\n",
    "ingreso = input(\"Desea agregar un contacto: y/n \\n\")\n",
    "\n",
    "while ingreso.lower() in \"y\":\n",
    "    nombre = input(\"Ingrese el nombre del contacto: \\n\")\n",
    "    numero = input(\"Ingrese el numero telefonico del contacto: \\n\")\n",
    "    \n",
    "    contacto = {\n",
    "        \"nombre\" : nombre,\n",
    "        \"numero\" : numero\n",
    "    }\n",
    "    \n",
    "    agenda.append(contacto)\n",
    "    \n",
    "    ingreso = input(\"Desea agregar otro contacto: y/n \\n\")"
   ]
  },
  {
   "cell_type": "code",
   "execution_count": 8,
   "id": "f774af22",
   "metadata": {},
   "outputs": [
    {
     "name": "stdout",
     "output_type": "stream",
     "text": [
      "[{'nombre': 'Juanito', 'numero': '68454'}]\n"
     ]
    }
   ],
   "source": [
    "print(agenda)"
   ]
  },
  {
   "cell_type": "code",
   "execution_count": 9,
   "id": "14bc6455",
   "metadata": {},
   "outputs": [
    {
     "name": "stdout",
     "output_type": "stream",
     "text": [
      "Juanito 68454\n"
     ]
    }
   ],
   "source": [
    "for i in agenda[:]:\n",
    "    print(i[\"nombre\"], i[\"numero\"])"
   ]
  }
 ],
 "metadata": {
  "kernelspec": {
   "display_name": "Python 3 (ipykernel)",
   "language": "python",
   "name": "python3"
  },
  "language_info": {
   "codemirror_mode": {
    "name": "ipython",
    "version": 3
   },
   "file_extension": ".py",
   "mimetype": "text/x-python",
   "name": "python",
   "nbconvert_exporter": "python",
   "pygments_lexer": "ipython3",
   "version": "3.9.13"
  }
 },
 "nbformat": 4,
 "nbformat_minor": 5
}
