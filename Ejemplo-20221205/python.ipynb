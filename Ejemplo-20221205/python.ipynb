{
 "cells": [
  {
   "cell_type": "code",
   "execution_count": 13,
   "id": "9d645046",
   "metadata": {},
   "outputs": [
    {
     "name": "stdout",
     "output_type": "stream",
     "text": [
      "o\n"
     ]
    }
   ],
   "source": [
    "str = \"Hola mundo\"\n",
    "print(str[9])\n",
    "\n"
   ]
  },
  {
   "cell_type": "code",
   "execution_count": 16,
   "id": "8397e81f",
   "metadata": {},
   "outputs": [
    {
     "name": "stdout",
     "output_type": "stream",
     "text": [
      "H\n",
      "o\n",
      "l\n",
      "a\n",
      " \n",
      "m\n",
      "u\n",
      "n\n",
      "d\n",
      "o\n"
     ]
    }
   ],
   "source": [
    "for i in str[:]:\n",
    "    print (i)"
   ]
  },
  {
   "cell_type": "code",
   "execution_count": 19,
   "id": "75d880f8",
   "metadata": {},
   "outputs": [
    {
     "name": "stdout",
     "output_type": "stream",
     "text": [
      "False\n",
      "False\n"
     ]
    }
   ],
   "source": [
    "print(5 == \"5\")\n",
    "print(\"A\" == \"a\")"
   ]
  },
  {
   "cell_type": "code",
   "execution_count": 6,
   "id": "13b23431",
   "metadata": {},
   "outputs": [
    {
     "name": "stdout",
     "output_type": "stream",
     "text": [
      "True\n"
     ]
    }
   ],
   "source": [
    "v = False and False\n",
    "print(not v)"
   ]
  },
  {
   "cell_type": "code",
   "execution_count": 21,
   "id": "dadf26aa",
   "metadata": {},
   "outputs": [
    {
     "name": "stdout",
     "output_type": "stream",
     "text": [
      "no es par\n"
     ]
    }
   ],
   "source": [
    "var = 47\n",
    "if var % 2 == 0:\n",
    "    print(\"Es par\")\n",
    "else:\n",
    "    print(\"no es par\")"
   ]
  },
  {
   "cell_type": "code",
   "execution_count": 10,
   "id": "9c0d2c38",
   "metadata": {},
   "outputs": [],
   "source": [
    "var = 3 + 5\n",
    "a = 3\n",
    "b = 5\n"
   ]
  },
  {
   "cell_type": "code",
   "execution_count": null,
   "id": "e2395408",
   "metadata": {},
   "outputs": [],
   "source": []
  }
 ],
 "metadata": {
  "kernelspec": {
   "display_name": "Python 3 (ipykernel)",
   "language": "python",
   "name": "python3"
  },
  "language_info": {
   "codemirror_mode": {
    "name": "ipython",
    "version": 3
   },
   "file_extension": ".py",
   "mimetype": "text/x-python",
   "name": "python",
   "nbconvert_exporter": "python",
   "pygments_lexer": "ipython3",
   "version": "3.9.12"
  }
 },
 "nbformat": 4,
 "nbformat_minor": 5
}
